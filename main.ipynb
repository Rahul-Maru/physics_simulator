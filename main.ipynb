{
 "cells": [
  {
   "cell_type": "markdown",
   "metadata": {},
   "source": [
    "<h1>Two-Body Problem</h1>\n",
    "\n",
    "<h3>A simulation that uses matplotlib to animate the motions of the heavenly bodies.</h3>\n",
    "<p>Results stored in simulation.gif.</p>"
   ]
  },
  {
   "cell_type": "code",
   "execution_count": 254,
   "metadata": {},
   "outputs": [],
   "source": [
    "# imports\n",
    "import numpy as np\n",
    "import matplotlib.pyplot as plt\n",
    "from matplotlib.animation import PillowWriter"
   ]
  },
  {
   "cell_type": "markdown",
   "metadata": {},
   "source": [
    "<h2>Constants and Formulas</h2>\n",
    "<h3>Scale Factors</h3>"
   ]
  },
  {
   "cell_type": "markdown",
   "metadata": {},
   "source": [
    "$$\\Delta x = 1 \\text { AU} = 149,597,870,700m $$\n",
    "\n",
    "$$\\Delta t = 4 \\text{ days} = 345,600s $$"
   ]
  },
  {
   "cell_type": "markdown",
   "metadata": {},
   "source": [
    "### Formulas\n",
    "$$ F_G = \\frac{G\\cdot m_1 \\cdot m_2}{||\\vec{r}||^2} \\cdot \\frac {\\vec{r}}{||\\vec{r}||} $$\n",
    "\n",
    "$$ GPE = \\frac{G\\cdot m_1 \\cdot m_2}{||\\vec{r}||} $$\n",
    "\n",
    "$$ KE = \\frac{1}{2} m||\\vec{v}||^2 $$\n",
    "\n",
    "The barycenter is the center of mass of the system, given by:\n",
    "\n",
    "$$ \\vec{s}_{barycenter} = {\\sum_{i=1}^N \\frac{\\vec{s}_i}{m_i}} $$"
   ]
  },
  {
   "cell_type": "code",
   "execution_count": 255,
   "metadata": {},
   "outputs": [],
   "source": [
    "# —unit scale factors—\n",
    "L_SCALE = 149597870700 # m/unit length || 1 AU\n",
    "T_SCALE = 86400 # s/unit time || n Days w. n=1\n",
    "\n",
    "# Newton's gravitational constant\n",
    "G = 6.6743e-11 * T_SCALE**2 / L_SCALE**3 # [M]¯¹[L]³[T]¯²\n",
    "\n",
    "# gravitational force\n",
    "Fg = lambda m1, m2, r: G * m1 * m2 * r/np.linalg.norm(r)**3 # [M][L][T]¯²\n",
    "\n",
    "# energy functions  [M][L]²[T]¯²\n",
    "GPE = lambda m1, m2, r: -G * m1 * m2 / np.linalg.norm(r) # gravitational potential energy\n",
    "KE = lambda m, v: m * np.linalg.norm(v)**2 / 2 # kinetic energy\n",
    "\n",
    "def calc_barycenter(particle_list: list):\n",
    "\t\"\"\"Calculates the barycenter (center of mass) of the system of particles.\n",
    "\t-----------\n",
    "\tParameters:\n",
    "\t\tparticle_list: a list of the form [p1, p2, ..., pn] where pi is a tuple of form (mi, si)\n",
    "\t\"\"\"\n",
    "\tΣs = np.zeros(3)\n",
    "\tΣm = 0\n",
    "\tfor p in particle_list:\n",
    "\t\tΣs += p[0]*p[1]\n",
    "\t\tΣm += p[0]\n",
    "\treturn Σs/Σm\n",
    "\n",
    "# def update(dt = 1):\n"
   ]
  },
  {
   "cell_type": "markdown",
   "metadata": {},
   "source": [
    "## Initial Conditions"
   ]
  },
  {
   "cell_type": "markdown",
   "metadata": {},
   "source": [
    "<h3>Orbits</h3>\n",
    "<p>When looking from outside the Solar system at the Southern hemisphere, the Earth rotates and orbits the sun in a clockwise direction, and the moon rotates and orbits the Earth in a clockwise direction too. As a result, the times it takes for the sun to return to the same position in the sky and for the moon to return to the same phase are slightly longer than the time it takes for the Earth and moon to rotate/orbit 360 degrees, respectively. The Earth takes 23:56 to rotate 360 degrees but the time between two noons is 24:00 because it has also progressed in its orbit. Similarly, the moon completes a full revolution of the Earth in 27.3 days but the time between two full moons is 29.5 days, because the moon phase is defined relative to the sun. \n",
    "\n",
    "The moon orbits on a plane inclined by 5.14° relative to the ecliptic.</p>\n",
    "\n",
    "<a href=\"https://nssdc.gsfc.nasa.gov/planetary/factsheet/moonfact.html\">Moon info</a> <br>\n",
    "<a href=\"https://nssdc.gsfc.nasa.gov/planetary/factsheet/earthfact.html\">Earth info</a>"
   ]
  },
  {
   "cell_type": "code",
   "execution_count": 256,
   "metadata": {},
   "outputs": [],
   "source": [
    "# —initial conditions —\n",
    "ms = 1.9891E30 # [M]  mass of sun\n",
    "me = 5.9722E24 # [M]  mass of earth\n",
    "mm = 7.3477E22 # [M]  mass of moon\n",
    "\n",
    "s0e = np.array([-1.0167, 0.0, 0.0]) # [L]  initial position of earth (aphelion)\n",
    "s0s = np.array([0.0, 0.0, 0.0]) # [L]  initial position of sun\n",
    "s0m = np.array([-1.0143, 0.0, -0.0002176]) # [L]  initial position of moon (perigee)\n",
    "\n",
    "s0b = calc_barycenter([(me, s0e), (ms, s0s), (mm, s0m)]) # [L]  initial center of mass of the system\n",
    "\n",
    "ue = np.array([0, 29290 * T_SCALE / L_SCALE, 0]) # [L][T]¯1  inital velocity of earth\n",
    "us = np.array([0, 0, 0]) # [L][T]¯1  inital velocity of sun\n",
    "um = np.array([0, 28208 * T_SCALE / L_SCALE, 0]) # [L][T]¯1  inital velocity of moon\n",
    "\n",
    "# arrays to hold the data\n",
    "trange = range(190) # [T]  time the simulation runs for, in terms of Δt\n",
    "\n",
    "e = {'s': [s0e], 'v': [ue]}\n",
    "s = {'s': [s0s], 'v': [us]}\n",
    "m = {'s': [s0m], 'v': [um]}\n",
    "b = {'s': [s0b]}\n"
   ]
  },
  {
   "cell_type": "markdown",
   "metadata": {},
   "source": [
    "<h2> Plot Setup <h2>"
   ]
  },
  {
   "cell_type": "code",
   "execution_count": 257,
   "metadata": {},
   "outputs": [
    {
     "data": {
      "image/png": "[encoded data removed]",
      "text/plain": [
       "<Figure size 640x480 with 1 Axes>"
      ]
     },
     "metadata": {},
     "output_type": "display_data"
    }
   ],
   "source": [
    "fig = plt.figure()\n",
    "ax = fig.add_subplot()\n",
    "ax.set_aspect('equal', adjustable='box')\n",
    "# ax.set_aspect('auto')\n",
    "fig.patch.set_facecolor('xkcd:ecru')\n",
    "ax.patch.set_facecolor(\"xkcd:very dark blue\")\n",
    "\n",
    "# test data to check colors\n",
    "e_path, = plt.plot([1, -1], [1, 1], \":\", color=\"xkcd:cerulean blue\", label=\"_\")\n",
    "e_trail, = plt.plot([1, 0], [1, 1], \"-\", color=\"xkcd:aqua marine\", label=\"_\")\n",
    "earth, = plt.plot([1], [1], \"o\", color=\"xkcd:bright green\", label=\"Earth\", markersize=6.5)\n",
    "\n",
    "s_path, = plt.plot([0.5, -1.5], [0, 0], \":\", color=\"xkcd:fire engine red\", label=\"_\")\n",
    "s_trail, = plt.plot([0.5, -0.5], [0, 0], \"-\", color=\"xkcd:bright orange\", label=\"_\")\n",
    "sun, = plt.plot([0.5], [0], \"o\", color=\"xkcd:tangerine\", label=\"Sun\", markersize=9)\n",
    "\n",
    "m_path, = plt.plot([1, -1], [-1, -1], \":\", color=\"xkcd:grey brown\", label=\"_\")\n",
    "m_trail, = plt.plot([1, 0], [-1,-1], \"-\", color=\"xkcd:stone\", label=\"_\")\n",
    "moon, = plt.plot([1], [-1], \"o\", color=\"xkcd:light grey\", label=\"Moon\", markersize=4.2)\n",
    "\n",
    "b_path, = plt.plot([0.75, -1.25], [0.75, 0.75], \":\", color=\"xkcd:violet\", label=\"_\")\n",
    "b_trail, = plt.plot([0.75, -0.25], [0.75, 0.75], \"-\", color=\"xkcd:barney purple\", label=\"_\")\n",
    "barycenter, = plt.plot([0.75], [0.75], \"o\", color=\"xkcd:magenta\", label=\"Barycenter\", markersize=3.2)\n",
    "\n",
    "objs = [\n",
    "\t{\n",
    "\t\t'id': 'e',\n",
    "\t\t'path': e_path,\n",
    "\t\t'trail': e_trail,\n",
    "\t\t'obj': earth},\n",
    "\t{\n",
    "\t\t'id': 's',\n",
    "\t\t'path': s_path,\n",
    "\t\t'trail': s_trail,\n",
    "\t\t'obj': sun},\n",
    "\t{\n",
    "\t\t'id': 'm',\n",
    "\t\t'path': m_path,\n",
    "\t\t'trail': m_trail,\n",
    "\t\t'obj': moon},\n",
    "\t{\n",
    "\t\t'id': 'b',\n",
    "\t\t'path': b_path,\n",
    "\t\t'trail': b_trail,\n",
    "\t\t'obj': barycenter}]\n",
    "\n",
    "plt.legend()\n",
    "\n",
    "plt.xlim(-1.25, 1.25)\n",
    "plt.ylim(-1.25, 1.25)\n",
    "# plt.xlim(-0.003, 0.003)\n",
    "# plt.ylim(-0.003, 0.003)\n",
    "\n",
    "plt.xlabel(\"x / AU\")\n",
    "plt.ylabel(\"y / AU\")\n",
    "\n",
    "\n",
    "md = dict(title=\"3-Body Problem\", artist=\"Rahul Maru\")\n",
    "writer = PillowWriter(fps=24, metadata=md)\n"
   ]
  },
  {
   "cell_type": "markdown",
   "metadata": {},
   "source": [
    "<h1>Algorithm<h1>"
   ]
  },
  {
   "cell_type": "markdown",
   "metadata": {},
   "source": [
    "## The Leap-Frog Method\n",
    "The leap-frog integration method involves shifting the velocity calculations by half a time-step (midpoint summation) to improve accuracy. It goes as follows:\n",
    "$$ \\vec{a}_i = \\frac{\\vec{F}_i}{m} $$\n",
    "$$ \\vec{v}_{i + \\frac{1}{2}} = \\vec{v}_{i - \\frac{1}{2}} + \\vec{a}_i \\Delta t $$\n",
    "$$ \\vec{s}_{i + 1} = \\vec{s}_i + \\vec{v}_{i + \\frac{1}{2}} \\Delta t$$\n",
    "\n",
    "To set it up for the first timestep:\n",
    "$$ \\vec{v}_{\\frac{1}{2}} = \\vec{u} + \\vec{a}_0 \\frac{\\Delta t}{2} $$\n",
    "$$ \\vec{s}_{1} = \\vec{s}_0 + \\vec{v}_{\\frac{1}{2}} \\Delta t$$\n",
    "\n"
   ]
  },
  {
   "cell_type": "code",
   "execution_count": 258,
   "metadata": {},
   "outputs": [],
   "source": [
    "# leapfrog setup\n",
    "F_es = Fg(me, ms, s0s-s0e)\n",
    "F_ms = Fg(mm, ms, s0s-s0m)\n",
    "F_me = Fg(mm, me, s0e-s0m)\n",
    "\n",
    "e['v'].append(ue + (F_es-F_me)/(2*me))\n",
    "s['v'].append(us - (F_es+F_ms)/(2*ms))\n",
    "m['v'].append(um + (F_ms+F_me)/(2*mm))\n",
    "\n",
    "e['s'].append(s0e + e['v'][-1])\n",
    "s['s'].append(s0s + s['v'][-1])\n",
    "m['s'].append(s0m + m['v'][-1])\n",
    "\n",
    "b['s'].append(calc_barycenter([(me, e['s'][-1]), (ms, s['s'][-1]), (mm, m['s'][-1])]))\n"
   ]
  },
  {
   "cell_type": "markdown",
   "metadata": {},
   "source": [
    "<h2>The Simulation</h2>"
   ]
  },
  {
   "cell_type": "markdown",
   "metadata": {},
   "source": [
    "Run the simulation and store the data."
   ]
  },
  {
   "cell_type": "code",
   "execution_count": 259,
   "metadata": {},
   "outputs": [],
   "source": [
    "for t in trange:\n",
    "\t# positions of each body at the last timestep\n",
    "\tse = e['s'][-1]\n",
    "\tss = s['s'][-1]\n",
    "\tsm = m['s'][-1]\n",
    "\n",
    "\t# distances between bodies\n",
    "\tr_se = ss - se\n",
    "\tr_sm = ss - sm\n",
    "\tr_em = se - sm\n",
    "\n",
    "\t# forces between bodies\n",
    "\tF_es = Fg(me, ms, r_se)\n",
    "\tF_ms = Fg(mm, ms, r_sm)\n",
    "\tF_me = Fg(mm, me, r_em)\n",
    "\n",
    "\t# update velocities\n",
    "\te['v'].append(e['v'][-1] + (F_es-F_me)/me)\n",
    "\ts['v'].append(s['v'][-1] - (F_es+F_ms)/ms)\n",
    "\tm['v'].append(m['v'][-1] + (F_ms+F_me)/mm)\n",
    "\n",
    "\te['s'].append(se + e['v'][-1])\n",
    "\ts['s'].append(ss + s['v'][-1])\n",
    "\tm['s'].append(sm + m['v'][-1])\n",
    "\n",
    "\tb['s'].append(calc_barycenter([(me, e['s'][-1]), (ms, s['s'][-1]), (mm, m['s'][-1])]))\n"
   ]
  },
  {
   "cell_type": "markdown",
   "metadata": {},
   "source": [
    "Generate the GIF."
   ]
  },
  {
   "cell_type": "code",
   "execution_count": 260,
   "metadata": {},
   "outputs": [],
   "source": [
    "with writer.saving(fig, \"simulation.gif\", 100):\n",
    "\tex, ey, ez = [[p[i] for p in e['s']] for i in range(3)]\n",
    "\tobjs[0]['s'] = {'x': ex, 'y': ey, 'z': ez}\n",
    "\tsx, sy, sz = [[p[i] for p in s['s']] for i in range(3)]\n",
    "\tobjs[1]['s'] = {'x': sx, 'y': sy, 'z': sz}\n",
    "\tmx, my, mz = [[p[i] for p in m['s']] for i in range(3)]\n",
    "\tobjs[2]['s'] = {'x': mx, 'y': my, 'z': mz}\n",
    "\tbx, by, bz = [[p[i] for p in b['s']] for i in range(3)]\n",
    "\tobjs[3]['s'] = {'x': bx, 'y': by, 'z': bz}\n",
    "\n",
    "\tfor t in trange:\n",
    "\t\ttr_lim = max(0, t-12)\n",
    "\n",
    "\t\tfor o in objs:\n",
    "\t\t\t# shift the coordinates to be centered at the barycenter\n",
    "\t\t\tx = [o['s']['x'][i] - objs[-1]['s']['x'][i] for i in trange]\n",
    "\t\t\ty = [o['s']['y'][j] - objs[-1]['s']['y'][j] for j in trange]\n",
    "\n",
    "\t\t\to['path'].set_data(x[:t], y[:t])\n",
    "\t\t\to['trail'].set_data(x[tr_lim:t], y[tr_lim:t])\n",
    "\t\t\to['obj'].set_data([x[t-1]], [y[t-1]])\n",
    "\t\t\n",
    "\n",
    "\t\twriter.grab_frame()\n"
   ]
  },
  {
   "cell_type": "markdown",
   "metadata": {},
   "source": [
    "### Conservation\n",
    "In this (and any) physical system, the sums of the linear momentum, angular momentum, and energy must be conserved.\n",
    "They are calculated by the formulas:\n",
    "$$\\vec{p} = m \\vec{v}$$\n",
    "$$L = \\vec{s} \\times \\vec{p}$$\n",
    "$$U = KE + GPE$$"
   ]
  },
  {
   "cell_type": "markdown",
   "metadata": {},
   "source": [
    "Plots the energy, momenta to see if they are indeed conserved."
   ]
  },
  {
   "cell_type": "code",
   "execution_count": 261,
   "metadata": {},
   "outputs": [
    {
     "ename": "NotImplementedError",
     "evalue": "",
     "output_type": "error",
     "traceback": [
      "\u001b[0;31m---------------------------------------------------------------------------\u001b[0m",
      "\u001b[0;31mNotImplementedError\u001b[0m                       Traceback (most recent call last)",
      "Cell \u001b[0;32mIn[261], line 1\u001b[0m\n\u001b[0;32m----> 1\u001b[0m \u001b[38;5;28;01mraise\u001b[39;00m \u001b[38;5;167;01mNotImplementedError\u001b[39;00m\n\u001b[1;32m      2\u001b[0m \u001b[38;5;66;03m# distances between bodies\u001b[39;00m\n\u001b[1;32m      3\u001b[0m r_se \u001b[38;5;241m=\u001b[39m e[\u001b[38;5;124m'\u001b[39m\u001b[38;5;124ms\u001b[39m\u001b[38;5;124m'\u001b[39m]\n",
      "\u001b[0;31mNotImplementedError\u001b[0m: "
     ]
    }
   ],
   "source": [
    "raise NotImplementedError\n",
    "# distances between bodies\n",
    "r_se = e['s']\n",
    "r_sm = ss - sm\n",
    "r_em = se - sm\n",
    "\n",
    "ΣGPE = GPE(me, ms, r_se) + GPE(mm, ms, r_sm) + GPE(mm, me, r_em)\n",
    "ΣKE = KE(me, ve) + KE(ms, vs) + KE(mm, vm)\n",
    "U = ΣGPE + ΣKE\n",
    "Ulist.append(U)\n",
    "\n",
    "pe = me*ve \n",
    "ps = ms*vs\n",
    "pm = mm*vm\n",
    "plist.append(np.linalg.norm(pe+ps+pm))\n",
    "\n",
    "L = np.cross(pe, se) + np.cross(ps, ss) + np.cross(pm, sm)\n",
    "Llist.append(np.linalg.norm(L))\n",
    "\n",
    "\n",
    "plt.axhline(0, 0, max(tlist), color = \"grey\", linestyle=\"dashed\", label=\"_\")\n",
    "\n",
    "plt.plot(tlist, plist)\n",
    "plt.plot(tlist, Llist)\n",
    "plt.plot(tlist, Ulist)\n",
    "\n",
    "plt.legend([\"0\", \"p\", \"L\", \"U\"])\n",
    "\n",
    "plt.ylim(-2e23, 7e23)\n",
    "\n",
    "plt.show()\n"
   ]
  }
 ],
 "metadata": {
  "kernelspec": {
   "display_name": "Python 3",
   "language": "python",
   "name": "python3"
  },
  "language_info": {
   "codemirror_mode": {
    "name": "ipython",
    "version": 3
   },
   "file_extension": ".py",
   "mimetype": "text/x-python",
   "name": "python",
   "nbconvert_exporter": "python",
   "pygments_lexer": "ipython3",
   "version": "3.10.12"
  }
 },
 "nbformat": 4,
 "nbformat_minor": 2
}
