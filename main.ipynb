{
 "cells": [
  {
   "cell_type": "markdown",
   "metadata": {},
   "source": [
    "<h1>Two-Body Problem</h1>\n",
    "\n",
    "<h3>A simulation that uses matplotlib to animate the motions of the heavenly bodies.</h3>\n",
    "<p>Results stored in simulation.gif.</p>"
   ]
  },
  {
   "cell_type": "code",
   "execution_count": 8,
   "metadata": {},
   "outputs": [],
   "source": [
    "# imports\n",
    "import numpy as np\n",
    "import matplotlib\n",
    "import matplotlib.pyplot as plt\n",
    "from matplotlib.animation import PillowWriter"
   ]
  },
  {
   "cell_type": "markdown",
   "metadata": {},
   "source": [
    "<h2>Constants</h2>\n",
    "<p>Scale factors, initial conditions.</p>"
   ]
  },
  {
   "cell_type": "markdown",
   "metadata": {},
   "source": [
    "$$\\Delta x = 1 \\text { AU} = 149,597,870,700m $$\n",
    "\n",
    "$$\\Delta t = 4 \\text{ days} = 345,600s $$"
   ]
  },
  {
   "cell_type": "code",
   "execution_count": 9,
   "metadata": {},
   "outputs": [],
   "source": [
    "# —unit scale factors—\n",
    "L_SCALE = 149597870700 # m/unit length || 1 AU\n",
    "T_SCALE = 86400 # s/unit time || n Days w. n=1\n",
    "\n",
    "# —initial conditions —\n",
    "ms = 1.9891E30 # [M]  mass of sun\n",
    "me = 5.9722E24 # [M]  mass of earth\n",
    "mm = 7.3477E22 # [M]  mass of moon\n",
    "\n",
    "ss = np.array([0.0, 0.0]) # [L]  initial position of sun\n",
    "se = np.array([-1.0, 0.0]) # [L]  initial position of earth\n",
    "sm = np.array([-0.997431, 0.0]) # [L]  initial position of moon\n",
    "\n",
    "us = np.array([0, 0]) # [L][T]¯1  inital velocity of sun\n",
    "ue = np.array([0, 29722 * T_SCALE / L_SCALE]) # [L][T]¯1  inital velocity of earth\n",
    "um = np.array([0, 28700 * T_SCALE / L_SCALE]) # [L][T]¯1  inital velocity of moon"
   ]
  },
  {
   "cell_type": "markdown",
   "metadata": {},
   "source": [
    "<h2> Setup <h2>"
   ]
  },
  {
   "cell_type": "code",
   "execution_count": 10,
   "metadata": {},
   "outputs": [
    {
     "data": {
      "image/png": "[encoded data removed]",
      "text/plain": [
       "<Figure size 640x480 with 1 Axes>"
      ]
     },
     "metadata": {},
     "output_type": "display_data"
    }
   ],
   "source": [
    "fig = plt.figure()\n",
    "ax = fig.add_subplot()\n",
    "ax.set_aspect('equal', adjustable='box')\n",
    "fig.patch.set_facecolor('xkcd:ecru')\n",
    "ax.patch.set_facecolor(\"xkcd:very dark blue\")\n",
    "\n",
    "# test data to check colors\n",
    "s_path, = plt.plot([0.5, -1.5], [0, 0], \":\", color=\"xkcd:fire engine red\", label=\"_\")\n",
    "s_trail, = plt.plot([0.5, -0.5], [0, 0], \"-\", color=\"xkcd:bright orange\", label=\"_\")\n",
    "sun, = plt.plot([0.5], [0], \"o\", color=\"xkcd:tangerine\", label=\"Sun\", markersize=9)\n",
    "\n",
    "e_path, = plt.plot([1, -1], [1, 1], \":\", color=\"xkcd:cerulean blue\", label=\"_\")\n",
    "e_trail, = plt.plot([1, 0], [1, 1], \"-\", color=\"xkcd:aqua marine\", label=\"_\")\n",
    "earth, = plt.plot([1], [1], \"o\", color=\"xkcd:bright green\", label=\"Earth\", markersize=6.5)\n",
    "\n",
    "m_path, = plt.plot([1, -1], [-1, -1], \":\", color=\"xkcd:grey brown\", label=\"_\")\n",
    "m_trail, = plt.plot([1, 0], [-1,-1], \"-\", color=\"xkcd:stone\", label=\"_\")\n",
    "moon, = plt.plot([1], [-1], \"o\", color=\"xkcd:light grey\", label=\"Moon\", markersize=4.2)\n",
    "\n",
    "b_path, = plt.plot([0.75, -1.25], [0.75, 0.75], \":\", color=\"xkcd:violet\", label=\"_\")\n",
    "b_trail, = plt.plot([0.75, -0.25], [0.75, 0.75], \"-\", color=\"xkcd:barney purple\", label=\"_\")\n",
    "barycenter, = plt.plot([0.75], [0.75], \"o\", color=\"xkcd:magenta\", label=\"Barycenter\", markersize=3.2)\n",
    "\n",
    "plt.legend()\n",
    "\n",
    "plt.xlim(-1.25, 1.25)\n",
    "plt.ylim(-1.25, 1.25)\n",
    "\n",
    "plt.xlabel(\"x / AU\")\n",
    "plt.ylabel(\"y / AU\")\n",
    "\n",
    "\n",
    "md = dict(title=\"2-body problem\", artist=\"Rahul Maru\")\n",
    "writer = PillowWriter(fps=24, metadata=md)\n"
   ]
  },
  {
   "cell_type": "markdown",
   "metadata": {},
   "source": [
    "## Formulas\n",
    "$$ F_G = \\frac{G\\cdot m_1 \\cdot m_2}{||\\vec{r}||^2} \\cdot \\frac {\\vec{r}}{||\\vec{r}||} $$\n",
    "\n",
    "$$ GPE = \\frac{G\\cdot m_1 \\cdot m_2}{||\\vec{r}||} $$\n",
    "\n",
    "$$ KE = \\frac{1}{2} m||\\vec{v}||^2 $$\n",
    "\n",
    "The barycenter is the center of mass of the system, given by:\n",
    "\n",
    "$$ \\vec{s}_{barycenter} = {\\sum_{i=1}^N \\frac{\\vec{s}_i}{m_i}} $$"
   ]
  },
  {
   "cell_type": "code",
   "execution_count": 11,
   "metadata": {},
   "outputs": [],
   "source": [
    "# Gravitational force\n",
    "G = 6.6743e-11 * T_SCALE**2 / L_SCALE**3 # [M]¯¹[L]³[T]¯²\n",
    "Fg = lambda m1, m2, r: G * m1 * m2 * r/np.linalg.norm(r)**3 # [M][L][T]¯²\n",
    "\n",
    "# energy functions  [M][L]²[T]¯²\n",
    "GPE = lambda m1, m2, r: -G * m1 * m2 / np.linalg.norm(r) # gravitational potential energy\n",
    "KE = lambda m, v: m * np.linalg.norm(v)**2 / 2 # kinetic energy\n",
    "\n",
    "def calc_barycenter(particle_list: list):\n",
    "\t\"\"\"Calculates the barycenter (center of mass) of the system of particles.\"\"\"\n",
    "\tΣs = np.zeros(2)\n",
    "\tΣm = 0\n",
    "\tfor p in particle_list:\n",
    "\t\tΣs += p[0]*p[1]\n",
    "\t\tΣm += p[0]\n",
    "\treturn Σs/Σm"
   ]
  },
  {
   "cell_type": "markdown",
   "metadata": {},
   "source": [
    "<h1>Algorithm<h1>"
   ]
  },
  {
   "cell_type": "markdown",
   "metadata": {},
   "source": [
    "## The Leap-Frog Method\n",
    "The leap-frog integration method involves shifting the velocity calculations by half a time-step (midpoint summation) to improve accuracy. It goes as follows:\n",
    "$$ \\vec{a}_i = \\frac{\\vec{F}_i}{m} $$\n",
    "$$ \\vec{v}_{i + \\frac{1}{2}} = \\vec{v}_{i - \\frac{1}{2}} + \\vec{a}_i \\Delta t $$\n",
    "$$ \\vec{s}_{i + 1} = \\vec{s}_i + \\vec{v}_{i + \\frac{1}{2}} \\Delta t$$\n",
    "\n",
    "To set it up for the first timestep:\n",
    "$$ \\vec{v}_{\\frac{1}{2}} = \\vec{u} + \\vec{a}_0 \\frac{\\Delta t}{2} $$\n",
    "$$ \\vec{s}_{1} = \\vec{s}_0 + \\vec{v}_{\\frac{1}{2}} \\Delta t$$\n",
    "\n"
   ]
  },
  {
   "cell_type": "code",
   "execution_count": 12,
   "metadata": {},
   "outputs": [],
   "source": [
    "# leapfrog setup\n",
    "F_es = Fg(me, ms, ss-se)\n",
    "F_ms = Fg(mm, ms, ss-sm)\n",
    "F_me = Fg(mm, me, se-sm)\n",
    "\n",
    "ve = ue + (F_es-F_me)/(2*me)\n",
    "vs = us - (F_es+F_ms)/(2*ms)\n",
    "vm = um + (F_ms+F_me)/(2*mm)\n",
    "\n",
    "se += ve\n",
    "ss += vs\n",
    "sm += vm"
   ]
  },
  {
   "cell_type": "markdown",
   "metadata": {},
   "source": [
    "<h2>The Simulation</h2>"
   ]
  },
  {
   "cell_type": "markdown",
   "metadata": {},
   "source": [
    "### Conservation\n",
    "In this (and any) physical system, the sums of the linear momentum, angular momentum, and energy must be conserved.\n",
    "They are calculated by the formulas:\n",
    "$$\\vec{p} = m \\vec{v}$$\n",
    "$$L = \\vec{s} \\times \\vec{p}$$\n",
    "$$U = KE + GPE$$"
   ]
  },
  {
   "cell_type": "code",
   "execution_count": 13,
   "metadata": {},
   "outputs": [],
   "source": [
    "tlist = range(731)\n",
    "exlist = []\n",
    "eylist = []\n",
    "sxlist = []\n",
    "sylist = []\n",
    "mxlist = []\n",
    "mylist = []\n",
    "\n",
    "bxlist = []\n",
    "bylist = []\n",
    "\n",
    "plist = []\n",
    "Llist = []\n",
    "Ulist = []\n",
    "\n",
    "with writer.saving(fig, \"simulation.gif\", 300):\n",
    "\tfor t in tlist:\n",
    "\t\tr_se = ss - se\n",
    "\t\tr_sm = ss - sm\n",
    "\t\tr_em = se - sm\n",
    "\n",
    "\t\tF_es = Fg(me, ms, r_se)\n",
    "\t\tF_ms = Fg(mm, ms, r_sm)\n",
    "\t\tF_me = Fg(mm, me, r_em)\n",
    "\n",
    "\t\tve += (F_es-F_me)/me\n",
    "\t\tvs += (-F_es-F_ms)/ms\n",
    "\t\tvm += (F_ms+F_me)/mm\n",
    "\n",
    "\t\tse += ve\n",
    "\t\tss += vs\n",
    "\t\tsm += vm\n",
    "\n",
    "\t\tex, ey = (*se,)\n",
    "\t\tsx, sy = (*ss,)\n",
    "\t\tmx, my = (*sm,)\n",
    "\t\tbx, by = calc_barycenter([(me, se), (ms, ss), (mm, sm)])\n",
    "\n",
    "\t\tΣGPE = GPE(me, ms, r_se) + GPE(mm, ms, r_sm) + GPE(mm, me, r_em)\n",
    "\t\tΣKE = KE(me, ve) + KE(ms, vs) + KE(mm, vm)\n",
    "\t\tU = ΣGPE + ΣKE\n",
    "\t\tUlist.append(U)\n",
    "\n",
    "\t\tpe = me*ve \n",
    "\t\tps = ms*vs\n",
    "\t\tpm = mm*vm\n",
    "\t\tplist.append(np.linalg.norm(pe+ps+pm))\n",
    "\n",
    "\t\tL = np.cross(pe, se) + np.cross(ps, ss) + np.cross(pm, sm)\n",
    "\t\tLlist.append(np.linalg.norm(L))\n",
    "\n",
    "\t\texlist.append(ex)\n",
    "\t\teylist.append(ey)\n",
    "\t\tsxlist.append(sx)\n",
    "\t\tsylist.append(sy)\n",
    "\t\tmxlist.append(mx)\n",
    "\t\tmylist.append(my)\n",
    "\t\tbxlist.append(bx)\n",
    "\t\tbylist.append(by)\n",
    "\n",
    "\t\ts_path.set_data(sxlist, sylist)\n",
    "\t\ts_trail.set_data(sxlist[-12:], sylist[-12:])\n",
    "\t\tsun.set_data([sx], [sy])\n",
    "\t\t\n",
    "\t\te_path.set_data(exlist, eylist)\n",
    "\t\te_trail.set_data(exlist[-12:], eylist[-12:])\n",
    "\t\tearth.set_data([ex], [ey])\n",
    "\t\t\n",
    "\t\tm_path.set_data(mxlist, mylist)\n",
    "\t\tm_trail.set_data(mxlist[-12:], mylist[-12:])\n",
    "\t\tmoon.set_data([mx], [my])\n",
    "\n",
    "\t\tb_path.set_data(bxlist, bylist)\n",
    "\t\tb_trail.set_data(bxlist[-12:], bylist[-12:])\n",
    "\t\tbarycenter.set_data([bx], [by])\n",
    "\n",
    "\t\twriter.grab_frame()\n"
   ]
  },
  {
   "cell_type": "markdown",
   "metadata": {},
   "source": [
    "Plot the energy, momenta to see if they are indeed conserved."
   ]
  },
  {
   "cell_type": "code",
   "execution_count": 14,
   "metadata": {},
   "outputs": [
    {
     "data": {
      "image/png": "[encoded data removed]",
      "text/plain": [
       "<Figure size 640x480 with 1 Axes>"
      ]
     },
     "metadata": {},
     "output_type": "display_data"
    }
   ],
   "source": [
    "plt.axhline(0, 0, max(tlist), color = \"grey\", linestyle=\"dashed\", label=\"_\")\n",
    "\n",
    "plt.plot(tlist, plist)\n",
    "plt.plot(tlist, Llist)\n",
    "plt.plot(tlist, Ulist)\n",
    "\n",
    "plt.legend([\"0\", \"p\", \"L\", \"U\"])\n",
    "\n",
    "plt.ylim(-2e23, 7e23)\n",
    "\n",
    "plt.show()\n"
   ]
  }
 ],
 "metadata": {
  "kernelspec": {
   "display_name": "Python 3",
   "language": "python",
   "name": "python3"
  },
  "language_info": {
   "codemirror_mode": {
    "name": "ipython",
    "version": 3
   },
   "file_extension": ".py",
   "mimetype": "text/x-python",
   "name": "python",
   "nbconvert_exporter": "python",
   "pygments_lexer": "ipython3",
   "version": "3.10.12"
  }
 },
 "nbformat": 4,
 "nbformat_minor": 2
}
