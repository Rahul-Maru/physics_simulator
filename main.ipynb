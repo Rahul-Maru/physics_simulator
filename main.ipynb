{
 "cells": [
  {
   "cell_type": "markdown",
   "metadata": {},
   "source": [
    "<h1>Two-Body Problem</h1>\n",
    "\n",
    "<h3>A simulation that uses matplotlib to animate the motions of the heavenly bodies.</h3>\n",
    "<p>Results stored in simulation.gif.</p>"
   ]
  },
  {
   "cell_type": "code",
   "execution_count": 1,
   "metadata": {},
   "outputs": [],
   "source": [
    "# imports\n",
    "import numpy as np\n",
    "import matplotlib\n",
    "import matplotlib.pyplot as plt\n",
    "from matplotlib.animation import PillowWriter"
   ]
  },
  {
   "cell_type": "markdown",
   "metadata": {},
   "source": [
    "<h2>Constants</h2>\n",
    "<p>Scale factors, initial conditions.</p>"
   ]
  },
  {
   "cell_type": "markdown",
   "metadata": {},
   "source": [
    "$$\\Delta x = 1 \\text { AU} = 149,597,870,700m $$\n",
    "\n",
    "$$\\Delta t = 4 \\text{ days} = 345,600s $$"
   ]
  },
  {
   "cell_type": "code",
   "execution_count": 2,
   "metadata": {},
   "outputs": [],
   "source": [
    "# —unit scale factors—\n",
    "L_SCALE = 149597870700 # m/unit length || 1 AU\n",
    "T_SCALE = 86400*4 # s/unit time || n Days w. n=4\n",
    "\n",
    "# —initial conditions —\n",
    "ms = 1.9891e30 # [M]  mass of sun\n",
    "me = 5.97219e24 # [M]  mass of earth\n",
    "\n",
    "ss = np.array([0.0, 0.0]) # [L]  initial position of sun\n",
    "se = np.array([-1.0, 0.0]) # [L]  initial position of earth\n",
    "\n",
    "us = np.array([0, 0]) # [L][T]¯1  inital velocity of sun\n",
    "ue = np.array([0, 29722 * T_SCALE / L_SCALE]) # [L][T]¯1  inital velocity of earth"
   ]
  },
  {
   "cell_type": "markdown",
   "metadata": {},
   "source": [
    "<h2> Setup <h2>"
   ]
  },
  {
   "cell_type": "code",
   "execution_count": 3,
   "metadata": {},
   "outputs": [
    {
     "data": {
      "image/png": "[encoded data removed]",
      "text/plain": [
       "<Figure size 640x480 with 1 Axes>"
      ]
     },
     "metadata": {},
     "output_type": "display_data"
    }
   ],
   "source": [
    "fig = plt.figure()\n",
    "ax = fig.add_subplot()\n",
    "ax.set_aspect('equal', adjustable='box')\n",
    "fig.patch.set_facecolor('xkcd:ecru')\n",
    "ax.patch.set_facecolor(\"xkcd:very dark blue\")\n",
    "\n",
    "# test data to check colors\n",
    "e_path, = plt.plot([1, -1], [1, 1], \":\", color=\"xkcd:cerulean blue\", label=\"_\")\n",
    "e_trail, = plt.plot([1, 0], [1, 1], \"-\", color=\"xkcd:aqua marine\", label=\"_\")\n",
    "earth, = plt.plot([1], [1], \"o\", color=\"xkcd:bright green\", label=\"Earth\", markersize=6.5)\n",
    "\n",
    "s_path, = plt.plot([0, -2], [0, 0], \":\", color=\"xkcd:fire engine red\", label=\"_\")\n",
    "s_trail, = plt.plot([0, -1], [0, 0], \"-\", color=\"xkcd:bright orange\", label=\"_\")\n",
    "sun, = plt.plot([0], [0], \"o\", color=\"xkcd:tangerine\", label=\"Sun\", markersize=9)\n",
    "\n",
    "b_path, = plt.plot([2, 0], [2, 2], \":\", color=\"xkcd:violet\", label=\"_\")\n",
    "b_trail, = plt.plot([2, 1], [2, 2], \"-\", color=\"xkcd:barney purple\", label=\"_\")\n",
    "barycenter, = plt.plot([2], [2], \"o\", color=\"xkcd:magenta\", label=\"Barycenter\", markersize=3.6)\n",
    "\n",
    "plt.legend()\n",
    "\n",
    "plt.xlim(-2.5, 2.5)\n",
    "plt.ylim(-2.5, 2.5)\n",
    "\n",
    "plt.xlabel(\"x / AU\")\n",
    "plt.ylabel(\"y / AU\")\n",
    "\n",
    "\n",
    "md = dict(title=\"2-body problem\", artist=\"Rahul Maru\")\n",
    "writer = PillowWriter(fps=24, metadata=md)\n"
   ]
  },
  {
   "cell_type": "markdown",
   "metadata": {},
   "source": [
    "## Formulas\n",
    "$$ F_G = \\frac{G\\cdot m_1 \\cdot m_2}{||\\vec{r}||^2} \\cdot \\frac {\\vec{r}}{||\\vec{r}||} $$\n",
    "\n",
    "$$ GPE = \\frac{G\\cdot m_1 \\cdot m_2}{||\\vec{r}||} $$\n",
    "\n",
    "$$ KE = \\frac{1}{2} m||\\vec{v}||^2 $$\n",
    "\n",
    "The barycenter is the center of mass of the system, given by:\n",
    "\n",
    "$$ \\vec{s}_{barycenter} = {\\sum_{i=1}^N \\frac{\\vec{s}_i}{m_i}} $$"
   ]
  },
  {
   "cell_type": "code",
   "execution_count": 4,
   "metadata": {},
   "outputs": [],
   "source": [
    "# Gravitational force\n",
    "G = 6.6743e-11 * T_SCALE**2 / L_SCALE**3 # [M]¯¹[L]³[T]¯²\n",
    "Fg = lambda m1, m2, r: G * m1 * m2 * r/np.linalg.norm(r)**3 # [M][L][T]¯²\n",
    "\n",
    "# energy functions  [M][L]²[T]¯²\n",
    "GPE = lambda m1, m2, r: -G * m1 * m2 / np.linalg.norm(r) # gravitational potential energy\n",
    "KE = lambda m, v: m * np.linalg.norm(v)**2 / 2 # kinetic energy\n",
    "\n",
    "def calc_barycenter(particle_list: list):\n",
    "\t\"\"\"Calculates the barycenter (center of mass) of the system of particles.\"\"\"\n",
    "\tΣs = np.zeros(2)\n",
    "\tΣm = 0\n",
    "\tfor p in particle_list:\n",
    "\t\tΣs += p[0]*p[1]\n",
    "\t\tΣm += p[0]\n",
    "\treturn Σs/Σm"
   ]
  },
  {
   "cell_type": "markdown",
   "metadata": {},
   "source": [
    "<h1>Algorithm<h1>"
   ]
  },
  {
   "cell_type": "markdown",
   "metadata": {},
   "source": [
    "## The Leap-Frog Method\n",
    "The leap-frog integration method involves shifting the velocity calculations by half a time-step (midpoint summation) to improve accuracy. It goes as follows:\n",
    "$$ \\vec{a}_i = \\frac{\\vec{F}_i}{m} $$\n",
    "$$ \\vec{v}_{i + \\frac{1}{2}} = \\vec{v}_{i - \\frac{1}{2}} + \\vec{a}_i \\Delta t $$\n",
    "$$ \\vec{s}_{i + 1} = \\vec{s}_i + \\vec{v}_{i + \\frac{1}{2}} \\Delta t$$\n",
    "\n",
    "To set it up for the first timestep:\n",
    "$$ \\vec{v}_{\\frac{1}{2}} = \\vec{u} + \\vec{a}_0 \\frac{\\Delta t}{2} $$\n",
    "$$ \\vec{s}_{1} = \\vec{s}_0 + \\vec{v}_{\\frac{1}{2}} \\Delta t$$\n",
    "\n"
   ]
  },
  {
   "cell_type": "code",
   "execution_count": 5,
   "metadata": {},
   "outputs": [],
   "source": [
    "# leapfrog setup\n",
    "F_NET = Fg(ms, me, ss-se)\n",
    "ve = ue + F_NET/(2*me)\n",
    "vs = us - F_NET/(2*ms)\n",
    "\n",
    "se += ve\n",
    "ss += vs\n"
   ]
  },
  {
   "cell_type": "markdown",
   "metadata": {},
   "source": [
    "<h2>The Simulation</h2>"
   ]
  },
  {
   "cell_type": "markdown",
   "metadata": {},
   "source": [
    "### Conservation\n",
    "In this (and any) physical system, the sums of the linear momentum, angular momentum, and energy must be conserved.\n",
    "They are calculated by the formulas:\n",
    "$$\\vec{p} = m \\vec{v}$$\n",
    "$$L = \\vec{s} \\times \\vec{p}$$\n",
    "$$U = KE + GPE$$"
   ]
  },
  {
   "cell_type": "code",
   "execution_count": 6,
   "metadata": {},
   "outputs": [],
   "source": [
    "tlist = range(280)\n",
    "exlist = []\n",
    "eylist = []\n",
    "sxlist = []\n",
    "sylist = []\n",
    "bxlist = []\n",
    "bylist = []\n",
    "\n",
    "plist = []\n",
    "Llist = []\n",
    "Ulist = []\n",
    "\n",
    "with writer.saving(fig, \"simulation.gif\", 150):\n",
    "\tfor t in tlist:\n",
    "\t\tF = Fg(ms, me, ss-se)\n",
    "\t\tve += F/me\n",
    "\t\tvs -= F/ms\n",
    "\t\tse += ve\n",
    "\t\tss += vs\n",
    "\n",
    "\t\tex, ey = (*se,)\n",
    "\t\tsx, sy = (*ss,)\n",
    "\t\tbx, by = calc_barycenter([(me, se), (ms, ss)])\n",
    "\n",
    "\t\tU = GPE(me, ms, ss-se) + KE(me, ve) + KE(ms, vs)\n",
    "\t\tUlist.append(U)\n",
    "\t\tpe = me*ve \n",
    "\t\tps = ms*vs\n",
    "\t\tplist.append(np.linalg.norm(pe+ps))\n",
    "\t\tL = np.cross(pe, se) + np.cross(ps, ss)\n",
    "\t\tLlist.append(np.linalg.norm(L))\n",
    "\n",
    "\t\texlist.append(ex)\n",
    "\t\teylist.append(ey)\n",
    "\t\tsxlist.append(sx)\n",
    "\t\tsylist.append(sy)\n",
    "\t\tbxlist.append(bx)\n",
    "\t\tbylist.append(by)\n",
    "\n",
    "\t\ts_path.set_data(sxlist, sylist)\n",
    "\t\ts_trail.set_data(sxlist[-12:], sylist[-12:])\n",
    "\t\tsun.set_data([sx], [sy])\n",
    "\t\t\n",
    "\t\te_path.set_data(exlist, eylist)\n",
    "\t\te_trail.set_data(exlist[-12:], eylist[-12:])\n",
    "\t\tearth.set_data([ex], [ey])\n",
    "\t\t\n",
    "\t\tb_path.set_data(bxlist, bylist)\n",
    "\t\tb_trail.set_data(bxlist[-12:], bylist[-12:])\n",
    "\t\tbarycenter.set_data([bx], [by])\n",
    "\n",
    "\t\twriter.grab_frame()\n"
   ]
  },
  {
   "cell_type": "markdown",
   "metadata": {},
   "source": [
    "Plot the energy, momenta to see if they are indeed conserved."
   ]
  },
  {
   "cell_type": "code",
   "execution_count": null,
   "metadata": {},
   "outputs": [],
   "source": [
    "plt.axhline(0, 0, max(tlist), color = \"grey\", linestyle=\"dashed\", label=\"_\")\n",
    "\n",
    "plt.plot(tlist, plist)\n",
    "plt.plot(tlist, Llist)\n",
    "plt.plot(tlist, Ulist)\n",
    "\n",
    "plt.legend([\"0\", \"p\", \"L\", \"U\"])\n",
    "\n",
    "plt.ylim(-2e23, 8e23)\n",
    "\n",
    "plt.show()\n"
   ]
  }
 ],
 "metadata": {
  "kernelspec": {
   "display_name": "Python 3",
   "language": "python",
   "name": "python3"
  },
  "language_info": {
   "codemirror_mode": {
    "name": "ipython",
    "version": 3
   },
   "file_extension": ".py",
   "mimetype": "text/x-python",
   "name": "python",
   "nbconvert_exporter": "python",
   "pygments_lexer": "ipython3",
   "version": "3.10.12"
  }
 },
 "nbformat": 4,
 "nbformat_minor": 2
}
